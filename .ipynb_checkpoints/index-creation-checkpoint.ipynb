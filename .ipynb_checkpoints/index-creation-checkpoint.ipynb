{
 "cells": [
  {
   "cell_type": "code",
   "execution_count": 1,
   "id": "6f90aeeb-cdcc-4d20-b6b0-e4105a2db196",
   "metadata": {},
   "outputs": [],
   "source": [
    "from txtai.embeddings import Embeddings\n",
    "import json"
   ]
  },
  {
   "cell_type": "code",
   "execution_count": 2,
   "id": "bf0f2d0e-0284-4061-843e-0960a2c93150",
   "metadata": {},
   "outputs": [
    {
     "data": {
      "application/vnd.jupyter.widget-view+json": {
       "model_id": "8157a00e62734d3f84dca25c17455084",
       "version_major": 2,
       "version_minor": 0
      },
      "text/plain": [
       "Downloading config.json:   0%|          | 0.00/612 [00:00<?, ?B/s]"
      ]
     },
     "metadata": {},
     "output_type": "display_data"
    },
    {
     "data": {
      "application/vnd.jupyter.widget-view+json": {
       "model_id": "78f1c5f798d14200be61e6ebb03ae5c6",
       "version_major": 2,
       "version_minor": 0
      },
      "text/plain": [
       "Downloading pytorch_model.bin:   0%|          | 0.00/86.7M [00:00<?, ?B/s]"
      ]
     },
     "metadata": {},
     "output_type": "display_data"
    },
    {
     "data": {
      "application/vnd.jupyter.widget-view+json": {
       "model_id": "8559c9736a4a4cb4a3adf03712337243",
       "version_major": 2,
       "version_minor": 0
      },
      "text/plain": [
       "Downloading tokenizer_config.json:   0%|          | 0.00/350 [00:00<?, ?B/s]"
      ]
     },
     "metadata": {},
     "output_type": "display_data"
    },
    {
     "data": {
      "application/vnd.jupyter.widget-view+json": {
       "model_id": "88144a039dbb453d8ce4933bbb1bc5ff",
       "version_major": 2,
       "version_minor": 0
      },
      "text/plain": [
       "Downloading vocab.txt:   0%|          | 0.00/226k [00:00<?, ?B/s]"
      ]
     },
     "metadata": {},
     "output_type": "display_data"
    },
    {
     "data": {
      "application/vnd.jupyter.widget-view+json": {
       "model_id": "89bf85b8b743455fa2cb415e0e8630f0",
       "version_major": 2,
       "version_minor": 0
      },
      "text/plain": [
       "Downloading tokenizer.json:   0%|          | 0.00/455k [00:00<?, ?B/s]"
      ]
     },
     "metadata": {},
     "output_type": "display_data"
    },
    {
     "data": {
      "application/vnd.jupyter.widget-view+json": {
       "model_id": "16d3f23091894d45b9c7334b9de3e87e",
       "version_major": 2,
       "version_minor": 0
      },
      "text/plain": [
       "Downloading special_tokens_map.json:   0%|          | 0.00/112 [00:00<?, ?B/s]"
      ]
     },
     "metadata": {},
     "output_type": "display_data"
    }
   ],
   "source": [
    "# Create embeddings model, backed by sentence-transformers & transformers\n",
    "embeddings = Embeddings({\"path\": \"sentence-transformers/all-MiniLM-L6-v2\"})"
   ]
  },
  {
   "cell_type": "code",
   "execution_count": 3,
   "id": "136566f2-149c-4c0c-bd8a-4921f93d1343",
   "metadata": {},
   "outputs": [
    {
     "data": {
      "text/plain": [
       "100"
      ]
     },
     "execution_count": 3,
     "metadata": {},
     "output_type": "execute_result"
    }
   ],
   "source": [
    "with open(\"data/vol7.json\", \"r\") as f:\n",
    "    data = json.load(f)[\"descriptions\"][:100]\n",
    "len(data)"
   ]
  },
  {
   "cell_type": "code",
   "execution_count": 7,
   "id": "0129587c-8f66-4f52-82ed-a175181c8f55",
   "metadata": {},
   "outputs": [
    {
     "name": "stdout",
     "output_type": "stream",
     "text": [
      "100\n"
     ]
    },
    {
     "data": {
      "text/plain": [
       "(0,\n",
       " \"An ANCYL member who was shot and severely injured by SAP members at Lephoi, Bethulie, Orange Free State (OFS) on 17 April 1991. Police opened fire on a gathering at an ANC supporter's house following a dispute between two neighbours, one of whom was linked to the ANC and the other to the SAP and a councillor.\",\n",
       " None)"
      ]
     },
     "execution_count": 7,
     "metadata": {},
     "output_type": "execute_result"
    }
   ],
   "source": [
    "txtai_data = []\n",
    "i = 0\n",
    "for text in data:\n",
    "    txtai_data.append((i, text, None))\n",
    "    i=i+1\n",
    "print(len(txtai_data))\n",
    "txtai_data[0]"
   ]
  },
  {
   "cell_type": "code",
   "execution_count": 8,
   "id": "f498ceb6-f25b-47b2-89b1-ec8ab9e1bf71",
   "metadata": {},
   "outputs": [],
   "source": [
    "# Create an index for the list of text\n",
    "embeddings.index(txtai_data)"
   ]
  },
  {
   "cell_type": "code",
   "execution_count": 10,
   "id": "8fe21150-739c-4e72-9679-c10347d63d11",
   "metadata": {},
   "outputs": [
    {
     "data": {
      "text/plain": [
       "[(39, 0.4888963997364044),\n",
       " (10, 0.41678333282470703),\n",
       " (29, 0.4156133234500885),\n",
       " (89, 0.41024139523506165),\n",
       " (96, 0.3972913324832916),\n",
       " (41, 0.39659738540649414),\n",
       " (73, 0.37373819947242737),\n",
       " (5, 0.36596447229385376),\n",
       " (0, 0.3519345819950104),\n",
       " (72, 0.33974844217300415)]"
      ]
     },
     "execution_count": 10,
     "metadata": {},
     "output_type": "execute_result"
    }
   ],
   "source": [
    "res = embeddings.search(\"arson\", 10)\n",
    "res"
   ]
  },
  {
   "cell_type": "code",
   "execution_count": 11,
   "id": "22ee4341-a146-4c9b-b5f0-673f6626ad10",
   "metadata": {},
   "outputs": [
    {
     "name": "stdout",
     "output_type": "stream",
     "text": [
      "Text: A COSAS supporter who was kicked and beaten with batons and rifle-butts by members of the Ciskei Police during protests against the Ciskei government at Zwelitsha and Mdantsane, Ciskei, in September 1985.\n",
      "Similarity: 0.2326425015926361\n",
      "\n",
      "Text: Was beaten and stabbed to death on 10 December 1992 in Entshawini, KwaZulu, near Stanger, Natal, by named IFP supporters who thought she was an ANC supporter.\n",
      "Similarity: 0.20882351696491241\n",
      "\n",
      "Text: Was severely injured when members of MK’s ‘Dolphin unit’ detonated an explosive in a car near the Krugersdorp Magistrate’s court and the adjacent police station, Transvaal, on 16 March 1988. Three people were killed and more than twenty were injured in the blast. Two MK operatives were granted amnesty (AC/2001/003).\n",
      "Similarity: 0.20672814548015594\n",
      "\n",
      "Text: Was stabbed and stoned to death by a group of UDF supporters in Mitchells Plain, Cape Town, on 25 May 1986, during a UDF rally following allegations that he was an informer. UDF leaders attempted to shield him from attack, but Mr Abrahams fled the venue. He was then pursued and killed.\n",
      "Similarity: 0.20107905566692352\n",
      "\n",
      "Text: Was injured when MK operatives detonated a limpet mine in a dustbin at the Vanderbijl Square bus terminus, Johannesburg, on 21 September 1988. Nineteen people were injured and a number of vehicles and buildings were damaged. Two MK Special Operations operatives were granted amnesty (AC/2000/056). A late application by a third MK operative was dismissed.\n",
      "Similarity: 0.19915758073329926\n",
      "\n",
      "Text: Was injured in a hand grenade explosion in Kimberley, Cape, on 25 May 1993, during an ANC protest march to the Bophuthatswana consulate. Two MK operatives threw a hand grenade at the building, but it bounced back into the crowd, killing one person and injuring forty one others. Two ANC members were wrongly convicted of the killing. Four MK and ANC members, two of whom denied guilt, applied for amnesty, which was refused (AC/2000/053 and AC/2000/241).\n",
      "Similarity: 0.19665201008319855\n",
      "\n",
      "Text: Was injured when MK operatives detonated an explosive in a car outside the South African Air Force (SAAF) headquarters in Church Street, Pretoria, on 20 May 1983. Twenty one people were killed and two hundred and seventeen were injured. The overall commander of MK’s Special Operations Unit and two MK operatives were granted amnesty (AC/2001/003 and AC/2001/023). See Church Street Bombing, Pretoria.)\n",
      "Similarity: 0.19489847123622894\n",
      "\n",
      "Text: He was an MK operative who was shot dead in an ambush at Alldays, Transvaal, near the Botswana border, on 10 July 1986 by a joint team comprising SADF Special Forces and Far Northern Transvaal Security Branch members. Fourteen Security Branch operatives, including the divisional commander, applied for amnesty. Nine of these applications were refused (AC/1999/0176).\n",
      "Similarity: 0.1930536925792694\n",
      "\n",
      "Text: Was injured when members of MK’s Special Operations Unit detonated an explosive in a car outside the SADF Witwatersrand Command headquarters in Johannesburg on 30 July 1987. At least sixty eight people were injured. Three MK operatives and one UDF supporter linked to MK were granted amnesty for their roles in this attack (AC/2001/0003 and AC/2000/248).\n",
      "Similarity: 0.1892741620540619\n",
      "\n",
      "Text: Was severely injured when MK operatives detonated an explosive outside the South African Air Force (SAAF) headquarters in Church Street, Pretoria, on 20 May 1983. Twenty one people were killed and two hundred and seventeen were injured. The overall commander of MK’s Special Operations Unit and two MK operatives were granted amnesty (AC/2001/003 and AC/2001/023). See Church Street Bombing, Pretoria. \n",
      "Similarity: 0.18885338306427002\n",
      "\n"
     ]
    }
   ],
   "source": [
    "res = embeddings.search(\"knife\", 10)\n",
    "for r in res:\n",
    "    print(f\"Text: {data[r[0]]}\")\n",
    "    print(f\"Similarity: {r[1]}\")\n",
    "    print()"
   ]
  },
  {
   "cell_type": "code",
   "execution_count": 71,
   "id": "acce18f2-d5a5-4b3a-a6c0-f4cd800ae109",
   "metadata": {},
   "outputs": [],
   "source": [
    "embeddings.save(\"models/vol7_index\")"
   ]
  },
  {
   "cell_type": "code",
   "execution_count": null,
   "id": "e891f4e7-4bdf-4c49-9a2a-d3f7ccb1db7b",
   "metadata": {},
   "outputs": [],
   "source": []
  }
 ],
 "metadata": {
  "kernelspec": {
   "display_name": "Python 3 (ipykernel)",
   "language": "python",
   "name": "python3"
  },
  "language_info": {
   "codemirror_mode": {
    "name": "ipython",
    "version": 3
   },
   "file_extension": ".py",
   "mimetype": "text/x-python",
   "name": "python",
   "nbconvert_exporter": "python",
   "pygments_lexer": "ipython3",
   "version": "3.7.13"
  }
 },
 "nbformat": 4,
 "nbformat_minor": 5
}
