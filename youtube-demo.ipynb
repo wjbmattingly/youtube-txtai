{
 "cells": [
  {
   "cell_type": "code",
   "execution_count": 4,
   "id": "804370f5-4727-45ba-bcc1-5a82a1181061",
   "metadata": {},
   "outputs": [
    {
     "name": "stdout",
     "output_type": "stream",
     "text": [
      "3.7.13\n"
     ]
    }
   ],
   "source": [
    "from platform import python_version\n",
    "print(python_version())"
   ]
  },
  {
   "cell_type": "code",
   "execution_count": 5,
   "id": "5412ac46-19f9-4a93-a745-019d805253c3",
   "metadata": {},
   "outputs": [],
   "source": [
    "from txtai.embeddings import Embeddings\n",
    "import json"
   ]
  },
  {
   "cell_type": "code",
   "execution_count": 6,
   "id": "875d898b-0706-48a9-8a59-77b9c6cfb5bc",
   "metadata": {},
   "outputs": [],
   "source": [
    "embeddings = Embeddings({\n",
    "    \n",
    "    \"path\": \"sentence-transformers/all-MiniLM-L6-v2\"\n",
    "})"
   ]
  },
  {
   "cell_type": "code",
   "execution_count": 7,
   "id": "25dc6ce9-aa16-4626-8f01-331f0cabaec7",
   "metadata": {},
   "outputs": [
    {
     "data": {
      "text/plain": [
       "21747"
      ]
     },
     "execution_count": 7,
     "metadata": {},
     "output_type": "execute_result"
    }
   ],
   "source": [
    "with open(\"data/vol7.json\", \"r\") as f:\n",
    "    data = json.load(f)[\"descriptions\"]\n",
    "len(data)"
   ]
  },
  {
   "cell_type": "code",
   "execution_count": 8,
   "id": "b307c552-4537-45e3-bce7-f9bfb97af017",
   "metadata": {},
   "outputs": [
    {
     "data": {
      "text/plain": [
       "\"An ANCYL member who was shot and severely injured by SAP members at Lephoi, Bethulie, Orange Free State (OFS) on 17 April 1991. Police opened fire on a gathering at an ANC supporter's house following a dispute between two neighbours, one of whom was linked to the ANC and the other to the SAP and a councillor.\""
      ]
     },
     "execution_count": 8,
     "metadata": {},
     "output_type": "execute_result"
    }
   ],
   "source": [
    "data[0]"
   ]
  },
  {
   "cell_type": "code",
   "execution_count": 9,
   "id": "0cbd3b82-61c6-476e-b48d-175bddb98d99",
   "metadata": {},
   "outputs": [
    {
     "data": {
      "text/plain": [
       "(0,\n",
       " \"An ANCYL member who was shot and severely injured by SAP members at Lephoi, Bethulie, Orange Free State (OFS) on 17 April 1991. Police opened fire on a gathering at an ANC supporter's house following a dispute between two neighbours, one of whom was linked to the ANC and the other to the SAP and a councillor.\",\n",
       " None)"
      ]
     },
     "execution_count": 9,
     "metadata": {},
     "output_type": "execute_result"
    }
   ],
   "source": [
    "txtai_data = []\n",
    "i=0\n",
    "for text in data:\n",
    "    txtai_data.append((i, text, None))\n",
    "    i=i+1\n",
    "txtai_data[0]"
   ]
  },
  {
   "cell_type": "code",
   "execution_count": 10,
   "id": "e61d69a2-7122-44a2-89a8-20d1c16b6ce5",
   "metadata": {},
   "outputs": [],
   "source": [
    "embeddings.index(txtai_data)"
   ]
  },
  {
   "cell_type": "code",
   "execution_count": 11,
   "id": "8343d366-230b-4e5f-be55-8a660642594a",
   "metadata": {},
   "outputs": [],
   "source": [
    "res = embeddings.search(\"knife\", 10)"
   ]
  },
  {
   "cell_type": "code",
   "execution_count": 12,
   "id": "2616ac82-35a1-467e-bc12-6b2ceaddf042",
   "metadata": {},
   "outputs": [
    {
     "name": "stdout",
     "output_type": "stream",
     "text": [
      "(16515, 0.4320746660232544)\n",
      "(8831, 0.3792659044265747)\n",
      "(4447, 0.3627328872680664)\n",
      "(7704, 0.36261680722236633)\n",
      "(4354, 0.35579514503479004)\n",
      "(20872, 0.3358752131462097)\n",
      "(4114, 0.3343181908130646)\n",
      "(4152, 0.3324800133705139)\n",
      "(10046, 0.3193834722042084)\n",
      "(18142, 0.31569233536720276)\n"
     ]
    }
   ],
   "source": [
    "for item in res:\n",
    "    print(item)"
   ]
  },
  {
   "cell_type": "code",
   "execution_count": 13,
   "id": "c96a4aad-b60e-4c4f-86f7-5092203c17f1",
   "metadata": {},
   "outputs": [
    {
     "name": "stdout",
     "output_type": "stream",
     "text": [
      "Text: Was stabbed with a bush knife by an IFP supporter who attacked his home in Matshana, KwaZulu, near Empangeni, Natal, during continuing political conflict in June 1993. His nephew was shot and injured in the attack. \n",
      "Similarity: 0.4320746660232544\n",
      "\n",
      "Text: Was stabbed to death with knives and pangas by Zulu-speaking hostel-dwellers during conflict between residents and hostel-dwellers in the area on 13 September 1990. Mr Mbele was on his way to work by taxi when the driver abducted the passengers and drove them to the hostel.\n",
      "Similarity: 0.3792659044265747\n",
      "\n",
      "Text: An ANC supporter who was stabbed to death with a bush knife by IFP supporters in Carletonville, Transvaal, in August 1992, following a meeting on the East Driefontein Mine. \n",
      "Similarity: 0.3627328872680664\n",
      "\n",
      "Text: Was seriously injured when stabbed with knives and pangas by Zulu-speaking hostel-dwellers on 13 September 1990 during conflict between Vosloorus residents and hostel-dwellers. Mr Maseko was on his way to work by taxi when the driver abducted the passengers and drove them to the hostel.\n",
      "Similarity: 0.36261680722236633\n",
      "\n",
      "Text: An ANC supporter who was stabbed with a bush knife and severely beaten with sjamboks by IFP supporters in Umlazi, Durban, on 15 March 1992.\n",
      "Similarity: 0.35579514503479004\n",
      "\n",
      "Text: Was stabbed and set alight by named perpetrators in Lingelihle, Cradock, Cape, on 6 September 1986 during a strike and stayaway at his workplace. He was allegedly targeted because he did not heed the stayaway call. \n",
      "Similarity: 0.3358752131462097\n",
      "\n",
      "Text: An ANC supporter who was fatally stabbed with a knife by a named perpetrator in Mafikeng, Bophuthatswana, in February 1992. At the time Mr Kgang was on bail for taking part in an illegal political gathering.\n",
      "Similarity: 0.3343181908130646\n",
      "\n",
      "Text: Was severely injured when stabbed with knives and spears in Katlehong, Transvaal, in 1990 by IFP supporters who blocked the railway station and attacked anyone who was not a Zulu speaker.\n",
      "Similarity: 0.3324800133705139\n",
      "\n",
      "Text: Was stabbed with a spear and had his home burnt down in Ngwelezana, KwaZulu, near Empangeni, Natal, in April 1993 during ongoing conflict between ANC and IFP supporters.\n",
      "Similarity: 0.3193834722042084\n",
      "\n",
      "Text: An MK operative who was shot and burnt to death on 9 October 1991 in Sharpeville, Vereeniging, Transvaal, during a shoot-out with members of the SAP. \n",
      "Similarity: 0.31569233536720276\n",
      "\n"
     ]
    }
   ],
   "source": [
    "res = embeddings.search(\"knife\", 10)\n",
    "for r in res:\n",
    "    print(f\"Text: {data[r[0]]}\")\n",
    "    print(f\"Similarity: {r[1]}\")\n",
    "    print()"
   ]
  },
  {
   "cell_type": "code",
   "execution_count": 14,
   "id": "f7215cc4-a92b-4aba-b058-c6c87840ad6f",
   "metadata": {},
   "outputs": [],
   "source": [
    "embeddings.save(\"models/vol7_index_2\")"
   ]
  },
  {
   "cell_type": "code",
   "execution_count": null,
   "id": "a79e96e9-1eb9-4abc-bca1-0711d5e6da68",
   "metadata": {},
   "outputs": [],
   "source": []
  }
 ],
 "metadata": {
  "kernelspec": {
   "display_name": "Python 3 (ipykernel)",
   "language": "python",
   "name": "python3"
  },
  "language_info": {
   "codemirror_mode": {
    "name": "ipython",
    "version": 3
   },
   "file_extension": ".py",
   "mimetype": "text/x-python",
   "name": "python",
   "nbconvert_exporter": "python",
   "pygments_lexer": "ipython3",
   "version": "3.7.13"
  }
 },
 "nbformat": 4,
 "nbformat_minor": 5
}
